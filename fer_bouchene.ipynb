{
  "cells": [
    {
      "cell_type": "code",
      "source": [
        "import random\n",
        "\n",
        "import matplotlib.pyplot as plt\n",
        "import cv2\n",
        "import numpy as np\n",
        "import pandas as pd\n",
        "\n",
        "from sklearn.model_selection import KFold\n",
        "from sklearn.model_selection import cross_val_score\n",
        "from skimage.feature import hog\n",
        "\n",
        "\n",
        "from matplotlib import pyplot as plt\n",
        "\n",
        "from sklearn.svm import SVC\n",
        "from sklearn.model_selection import train_test_split\n",
        "from sklearn.metrics import confusion_matrix\n",
        "from sklearn.metrics import classification_report\n",
        "\n",
        "from sklearn.metrics import accuracy_score\n",
        "from sklearn.model_selection import cross_val_score"
      ],
      "metadata": {
        "id": "9BRVgB3ryC1l"
      },
      "id": "9BRVgB3ryC1l",
      "execution_count": null,
      "outputs": []
    },
    {
      "cell_type": "code",
      "source": [
        "def normalize_image(image):\n",
        "    # Convert the image to grayscale\n",
        "    gray = cv2.cvtColor(image, cv2.COLOR_BGR2GRAY)\n",
        "\n",
        "    # Apply GaussianBlur to reduce noise and improve HOG performance\n",
        "    blurred = cv2.GaussianBlur(gray, (5, 5), 0)\n",
        "\n",
        "\n",
        "    return image\n",
        "\n",
        "def compute_gradients(image):\n",
        "    # Compute gradients using Sobel operators\n",
        "    gradient_x = cv2.Sobel(image, cv2.CV_32F, 1, 0, ksize=3)\n",
        "    gradient_y = cv2.Sobel(image, cv2.CV_32F, 0, 1, ksize=3)\n",
        "\n",
        "    # Compute magnitude and angle of gradients\n",
        "    magnitude = np.sqrt(gradient_x**2 + gradient_y**2)\n",
        "    angle = np.arctan2(gradient_y, gradient_x)\n",
        "\n",
        "    # maxChan=np.argmax(magnitude,axis=2)\n",
        "    # maxmag=np.zeros(maxChan.shape)\n",
        "    # for r in range(maxChan.shape[0]):\n",
        "    #   for c in range(maxChan.shape[1]):\n",
        "    #     maxmag[r,c]=magnitude[r,c,maxChan[r,c]]\n",
        "\n",
        "    # maxChan=np.argmax(angle,axis=2)\n",
        "    # maxang=np.zeros(maxChan.shape)\n",
        "    # for r in range(maxChan.shape[0]):\n",
        "    #   for c in range(maxChan.shape[1]):\n",
        "    #     maxang[r,c]=angle[r,c,maxChan[r,c]]\n",
        "\n",
        "    # return maxmag, maxang\n",
        "    return magnitude, angle\n",
        "\n",
        "\n",
        "def createHist(AngArray,MagArray,BS=20,BINS=9):\n",
        "    # Convert angles to degrees (0 to 180)\n",
        "    AngArray = np.rad2deg(AngArray) % 180\n",
        "\n",
        "    hist=np.zeros(BINS)\n",
        "    for r in range(AngArray.shape[0]):\n",
        "        for c in range(AngArray.shape[1]):\n",
        "            binel,rem = np.divmod(AngArray[r,c],BS)\n",
        "            weightR=rem*1.0/BS\n",
        "            weightL=1-weightR\n",
        "            deltaR=MagArray[r,c]*weightR\n",
        "            deltaL=MagArray[r,c]*weightL\n",
        "            binL=int(binel)\n",
        "            binR=np.mod(binL+1,BINS)\n",
        "            hist[binL]+=deltaL\n",
        "            hist[binR]+=deltaR\n",
        "    return hist\n",
        "\n",
        "def hog_normalize_block(block, eps=1e-5):\n",
        "    #L2\n",
        "    out = block / np.sqrt(np.sum(block**2) + eps**2)\n",
        "    return out\n",
        "\n",
        "def compute_rectangular_hog(normalized_image, cell_size, block_size):\n",
        "    # Normalize the image using OpenCV\n",
        "    # normalized_image = normalize_image(image)\n",
        "\n",
        "    # Compute gradients\n",
        "    magnitude, angle = compute_gradients(normalized_image)\n",
        "    magnitude=magnitude.astype(int)\n",
        "    angle=angle.astype(int)\n",
        "\n",
        "    # Define cell and block parameters\n",
        "    cell_rows, cell_cols = cell_size\n",
        "    b_row, b_col = block_size\n",
        "\n",
        "\n",
        "    # Compute the number of cells in the image\n",
        "    num_cells_row = normalized_image.shape[0] // cell_rows\n",
        "    num_cells_col = normalized_image.shape[1] // cell_cols\n",
        "\n",
        "    n_blocks_row = (num_cells_row - b_row) + 1\n",
        "    n_blocks_col = (num_cells_col - b_col) + 1\n",
        "\n",
        "\n",
        "\n",
        "    orientation_histogram = np.zeros(\n",
        "        (num_cells_row, num_cells_col, 9), dtype=float\n",
        "    )\n",
        "\n",
        "    for row in range(num_cells_row - 1):\n",
        "        for col in range(num_cells_col - 1):\n",
        "            # Extract the cell region\n",
        "            cell_magnitude = magnitude[row * cell_rows:(row + 1) * cell_rows,\n",
        "                                       col * cell_cols:(col + 1) * cell_cols]\n",
        "            cell_angle = angle[row * cell_rows:(row + 1) * cell_rows,\n",
        "                               col * cell_cols:(col + 1) * cell_cols]\n",
        "\n",
        "            # Compute the histogram for the cell\n",
        "            cell_hist = createHist(cell_angle, cell_magnitude)\n",
        "\n",
        "            orientation_histogram[row][col] = cell_hist\n",
        "\n",
        "    normalized_blocks = np.zeros(\n",
        "        (n_blocks_row, n_blocks_col, b_row, b_col, 9), dtype=float\n",
        "    )\n",
        "\n",
        "    for r in range(n_blocks_row):\n",
        "        for c in range(n_blocks_col):\n",
        "            block = orientation_histogram[r : r + b_row, c : c + b_col, :]\n",
        "            normalized_blocks[r, c, :] = hog_normalize_block(block)\n",
        "\n",
        "    normalized_blocks = normalized_blocks.ravel()\n",
        "    return normalized_blocks\n",
        "\n"
      ],
      "metadata": {
        "id": "NPv8CBQn5nH6"
      },
      "id": "NPv8CBQn5nH6",
      "execution_count": null,
      "outputs": []
    },
    {
      "cell_type": "markdown",
      "source": [
        "# Mục mới"
      ],
      "metadata": {
        "id": "unrZdhjO6dRL"
      },
      "id": "unrZdhjO6dRL"
    },
    {
      "cell_type": "code",
      "source": [
        "# Load an image using OpenCV\n",
        "image_path = '/content/sample_data/puppy_image_Resize.jpeg'\n",
        "image = cv2.imread(image_path)\n",
        "image = cv2.cvtColor(image, cv2.COLOR_BGR2GRAY)\n",
        "image = cv2.resize(image, (128,64))\n",
        "\n",
        "# Specify parameters for rectangular HOG\n",
        "cell_size = (8, 8)  # Rectangular cell size\n",
        "block_size = (2, 2)\n",
        "\n",
        "# Compute rectangular HOG features\n",
        "rectangular_hog_features = compute_rectangular_hog(image, cell_size, block_size)\n",
        "\n",
        "# Display the rectangular HOG features\n",
        "plt.bar(range(len(rectangular_hog_features)), rectangular_hog_features)\n",
        "plt.title('Rectangular HOG Features')\n",
        "plt.show()"
      ],
      "metadata": {
        "colab": {
          "base_uri": "https://localhost:8080/",
          "height": 452
        },
        "id": "a4yAkFR05xUp",
        "outputId": "a1e75407-7f2d-4d4b-a6e4-5176cd6cee7c"
      },
      "id": "a4yAkFR05xUp",
      "execution_count": null,
      "outputs": [
        {
          "output_type": "display_data",
          "data": {
            "text/plain": [
              "<Figure size 640x480 with 1 Axes>"
            ],
            "image/png": "[encoded data removed]"
          },
          "metadata": {}
        }
      ]
    },
    {
      "cell_type": "code",
      "source": [
        "from skimage.feature import hog"
      ],
      "metadata": {
        "id": "3plw-Kfb66JJ"
      },
      "id": "3plw-Kfb66JJ",
      "execution_count": null,
      "outputs": []
    },
    {
      "cell_type": "code",
      "source": [
        "image = cv2.imread(image_path)\n",
        "imgray = cv2.cvtColor(image, cv2.COLOR_BGR2GRAY)\n",
        "image = cv2.resize(imgray, (128,64))"
      ],
      "metadata": {
        "id": "gAtQ2ags7ugO"
      },
      "id": "gAtQ2ags7ugO",
      "execution_count": null,
      "outputs": []
    },
    {
      "cell_type": "code",
      "source": [
        "fd1 =  hog(image, orientations=9, pixels_per_cell=(8, 8),cells_per_block=(2, 2))\n",
        "plt.bar(range(len(fd1)), fd1)\n",
        "plt.title('Rectangular HOG Features')\n",
        "plt.show()"
      ],
      "metadata": {
        "colab": {
          "base_uri": "https://localhost:8080/",
          "height": 452
        },
        "id": "rm8-bEXd7K0p",
        "outputId": "fd6f762a-c678-4611-f4bf-df8e956082cc"
      },
      "id": "rm8-bEXd7K0p",
      "execution_count": null,
      "outputs": [
        {
          "output_type": "display_data",
          "data": {
            "text/plain": [
              "<Figure size 640x480 with 1 Axes>"
            ],
            "image/png": "[encoded data removed]"
          },
          "metadata": {}
        }
      ]
    },
    {
      "cell_type": "code",
      "source": [
        "from google.colab import drive\n",
        "drive.mount('/content/drive')"
      ],
      "metadata": {
        "colab": {
          "base_uri": "https://localhost:8080/"
        },
        "outputId": "03e3caa5-2aea-4b57-fbbd-510f6cf3d3d2",
        "id": "-E4BreTkD2HR"
      },
      "execution_count": null,
      "outputs": [
        {
          "output_type": "stream",
          "name": "stdout",
          "text": [
            "Drive already mounted at /content/drive; to attempt to forcibly remount, call drive.mount(\"/content/drive\", force_remount=True).\n"
          ]
        }
      ],
      "id": "-E4BreTkD2HR"
    },
    {
      "cell_type": "code",
      "source": [
        "# import the necessary packages\n",
        "import os\n",
        "\n",
        "image_types = (\".jpg\", \".jpeg\", \".png\", \".bmp\", \".tif\", \".tiff\")\n",
        "\n",
        "\n",
        "def list_images(basePath, contains=None):\n",
        "    return list_files(basePath, validExts=image_types, contains=contains)\n",
        "\n",
        "\n",
        "def list_files(basePath, validExts=None, contains=None):\n",
        "    # loop over the directory structure\n",
        "    for (rootDir, dirNames, filenames) in os.walk(basePath):\n",
        "        # loop over the filenames in the current directory\n",
        "        for filename in filenames:\n",
        "            # if the contains string is not none and the filename does not contain\n",
        "            # the supplied string, then ignore the file\n",
        "            if contains is not None and filename.find(contains) == -1:\n",
        "                continue\n",
        "\n",
        "            # determine the file extension of the current file\n",
        "            ext = filename[filename.rfind(\".\"):].lower()\n",
        "\n",
        "            # check to see if the file is an image and should be processed\n",
        "            if validExts is None or ext.endswith(validExts):\n",
        "                # construct the path to the image and yield it\n",
        "                imagePath = os.path.join(rootDir, filename)\n",
        "                yield imagePath\n",
        "\n",
        "imagePaths = list(list_images('/content/drive/MyDrive/ck/CK+48/'))"
      ],
      "metadata": {
        "id": "JqdicyR_D-fd"
      },
      "id": "JqdicyR_D-fd",
      "execution_count": null,
      "outputs": []
    },
    {
      "cell_type": "code",
      "source": [
        "def colortogray(im):\n",
        "    image = cv2.imread(im)\n",
        "    imgray = cv2.cvtColor(image, cv2.COLOR_BGR2GRAY)\n",
        "    return imgray\n",
        "def resizeImage(image, size):\n",
        "    # cv2.imshow('Resized', cv2.resize(image, (size,size), interpolation=cv2.INTER_CUBIC))\n",
        "    return cv2.resize(image, (size,size))\n",
        "def feat_lab(imagePaths):\n",
        "\n",
        "    features = []\n",
        "    labels = []\n",
        "\n",
        "    for imagePath in imagePaths:\n",
        "        im = colortogray(imagePath)\n",
        "        im = resizeImage(im,64)\n",
        "        fd1 =  compute_rectangular_hog(im, cell_size=(8, 8),block_size=(4, 4))\n",
        "\n",
        "        label = imagePath.split(os.path.sep)[-2]\n",
        "        labels.append(label)\n",
        "        features.append(fd1)\n",
        "\n",
        "    features = np.array(features)\n",
        "    labels = np.array(labels)\n",
        "    return features,labels"
      ],
      "metadata": {
        "id": "hdM3aZfVD_Mj"
      },
      "id": "hdM3aZfVD_Mj",
      "execution_count": null,
      "outputs": []
    },
    {
      "cell_type": "code",
      "source": [
        "features,labels = feat_lab(imagePaths)\n",
        "\n",
        "\n",
        "print(\"[INFO] The number of features ...\" + str(features.shape[1]))\n",
        "\n",
        "print(\"[INFO] The number of samples ...\" + str(labels.shape[0]))"
      ],
      "metadata": {
        "colab": {
          "base_uri": "https://localhost:8080/"
        },
        "id": "GQlPAEZrEN2u",
        "outputId": "a47e575f-f14a-4732-af2f-ec710b38ebcd"
      },
      "id": "GQlPAEZrEN2u",
      "execution_count": null,
      "outputs": [
        {
          "output_type": "stream",
          "name": "stdout",
          "text": [
            "[INFO] The number of features ...3600\n",
            "[INFO] The number of samples ...981\n"
          ]
        }
      ]
    },
    {
      "cell_type": "code",
      "source": [
        "svm_clf = SVC(kernel='rbf', gamma='scale', C= 10)"
      ],
      "metadata": {
        "id": "ozDrreTEERTA"
      },
      "id": "ozDrreTEERTA",
      "execution_count": null,
      "outputs": []
    },
    {
      "cell_type": "code",
      "execution_count": null,
      "metadata": {
        "execution": {
          "iopub.execute_input": "2022-02-23T11:22:24.593342Z",
          "iopub.status.busy": "2022-02-23T11:22:24.591927Z",
          "iopub.status.idle": "2022-02-23T11:22:28.271386Z",
          "shell.execute_reply": "2022-02-23T11:22:28.271887Z",
          "shell.execute_reply.started": "2022-02-23T11:09:31.233687Z"
        },
        "papermill": {
          "duration": 3.712539,
          "end_time": "2022-02-23T11:22:28.272063",
          "exception": false,
          "start_time": "2022-02-23T11:22:24.559524",
          "status": "completed"
        },
        "tags": [],
        "colab": {
          "base_uri": "https://localhost:8080/"
        },
        "outputId": "d3dab4c2-94fd-41e1-9bfb-ac350f9aff6a",
        "id": "fQYKyI4gEWaN"
      },
      "outputs": [
        {
          "output_type": "stream",
          "name": "stdout",
          "text": [
            "[INFO] The number of images used in training ...686\n",
            "[INFO] The number of images used in testing ...295\n",
            "Train Result:\n",
            "================================================\n",
            "Accuracy Score: 100.00%\n",
            "_______________________________________________\n",
            "CLASSIFICATION REPORT:\n",
            "              precision    recall  f1-score   support\n",
            "\n",
            "       anger       1.00      1.00      1.00        93\n",
            "    contempt       1.00      1.00      1.00        36\n",
            "     disgust       1.00      1.00      1.00       118\n",
            "        fear       1.00      1.00      1.00        56\n",
            "       happy       1.00      1.00      1.00       151\n",
            "     sadness       1.00      1.00      1.00        57\n",
            "    surprise       1.00      1.00      1.00       175\n",
            "\n",
            "    accuracy                           1.00       686\n",
            "   macro avg       1.00      1.00      1.00       686\n",
            "weighted avg       1.00      1.00      1.00       686\n",
            "\n",
            "_______________________________________________\n",
            "Confusion Matrix: \n",
            " [[ 93   0   0   0   0   0   0]\n",
            " [  0  36   0   0   0   0   0]\n",
            " [  0   0 118   0   0   0   0]\n",
            " [  0   0   0  56   0   0   0]\n",
            " [  0   0   0   0 151   0   0]\n",
            " [  0   0   0   0   0  57   0]\n",
            " [  0   0   0   0   0   0 175]]\n",
            "\n",
            "Test Result:\n",
            "================================================\n",
            "Accuracy Score: 97.97%\n",
            "_______________________________________________\n",
            "CLASSIFICATION REPORT:\n",
            "              precision    recall  f1-score   support\n",
            "\n",
            "       anger       0.93      1.00      0.97        42\n",
            "    contempt       1.00      1.00      1.00        18\n",
            "     disgust       1.00      1.00      1.00        59\n",
            "        fear       1.00      1.00      1.00        19\n",
            "       happy       1.00      1.00      1.00        56\n",
            "     sadness       1.00      0.78      0.88        27\n",
            "    surprise       0.96      1.00      0.98        74\n",
            "\n",
            "    accuracy                           0.98       295\n",
            "   macro avg       0.98      0.97      0.97       295\n",
            "weighted avg       0.98      0.98      0.98       295\n",
            "\n",
            "_______________________________________________\n",
            "Confusion Matrix: \n",
            " [[42  0  0  0  0  0  0]\n",
            " [ 0 18  0  0  0  0  0]\n",
            " [ 0  0 59  0  0  0  0]\n",
            " [ 0  0  0 19  0  0  0]\n",
            " [ 0  0  0  0 56  0  0]\n",
            " [ 3  0  0  0  0 21  3]\n",
            " [ 0  0  0  0  0  0 74]]\n",
            "\n"
          ]
        }
      ],
      "source": [
        "from sklearn.metrics import accuracy_score, confusion_matrix, classification_report\n",
        "\n",
        "def print_score(clf, X_train, y_train, X_test, y_test, train=True):\n",
        "    if train:\n",
        "        pred = clf.predict(X_train)\n",
        "        clf_report = classification_report(y_train, pred)\n",
        "        print(\"Train Result:\\n================================================\")\n",
        "        print(f\"Accuracy Score: {accuracy_score(y_train, pred) * 100:.2f}%\")\n",
        "        print(\"_______________________________________________\")\n",
        "        print(f\"CLASSIFICATION REPORT:\\n{clf_report}\")\n",
        "        print(\"_______________________________________________\")\n",
        "        print(f\"Confusion Matrix: \\n {confusion_matrix(y_train, pred)}\\n\")\n",
        "\n",
        "    elif train==False:\n",
        "        pred = clf.predict(X_test)\n",
        "        clf_report = classification_report(y_test, pred)\n",
        "        print(\"Test Result:\\n================================================\")\n",
        "        print(f\"Accuracy Score: {accuracy_score(y_test, pred) * 100:.2f}%\")\n",
        "        print(\"_______________________________________________\")\n",
        "        print(f\"CLASSIFICATION REPORT:\\n{clf_report}\")\n",
        "        print(\"_______________________________________________\")\n",
        "        print(f\"Confusion Matrix: \\n {confusion_matrix(y_test, pred)}\\n\")\n",
        "\n",
        "################################################################################\n",
        "################################################################################\n",
        "\n",
        "\n",
        "R =random.randint(1,88)\n",
        "X_train, X_test, y_train, y_test = train_test_split(features, labels, test_size= 0.3,random_state=40\n",
        "                                                   )\n",
        "\n",
        "print(\"[INFO] The number of images used in training ...\" + str(X_train.shape[0]))\n",
        "print(\"[INFO] The number of images used in testing ...\" + str(X_test.shape[0]))\n",
        "\n",
        "\n",
        "svm_clf.fit(X_train, y_train)\n",
        "\n",
        "print_score(svm_clf, X_train, y_train, X_test, y_test, train=True)\n",
        "print_score(svm_clf, X_train, y_train, X_test, y_test, train=False)\n"
      ],
      "id": "fQYKyI4gEWaN"
    }
  ],
  "metadata": {
    "kernelspec": {
      "display_name": "Python 3",
      "language": "python",
      "name": "python3"
    },
    "language_info": {
      "codemirror_mode": {
        "name": "ipython",
        "version": 3
      },
      "file_extension": ".py",
      "mimetype": "text/x-python",
      "name": "python",
      "nbconvert_exporter": "python",
      "pygments_lexer": "ipython3",
      "version": "3.7.12"
    },
    "papermill": {
      "default_parameters": {},
      "duration": 39.114295,
      "end_time": "2022-02-23T11:22:46.629032",
      "environment_variables": {},
      "exception": null,
      "input_path": "__notebook__.ipynb",
      "output_path": "__notebook__.ipynb",
      "parameters": {},
      "start_time": "2022-02-23T11:22:07.514737",
      "version": "2.3.3"
    },
    "colab": {
      "provenance": []
    }
  },
  "nbformat": 4,
  "nbformat_minor": 5
}