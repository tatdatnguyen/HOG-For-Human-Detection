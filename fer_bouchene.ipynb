{
  "cells": [
    {
      "cell_type": "markdown",
      "id": "9ff3a490",
      "metadata": {
        "papermill": {
          "duration": 0.020915,
          "end_time": "2022-02-23T11:22:17.354871",
          "exception": false,
          "start_time": "2022-02-23T11:22:17.333956",
          "status": "completed"
        },
        "tags": [],
        "id": "9ff3a490"
      },
      "source": [
        "*Import required libraries and modules*"
      ]
    },
    {
      "cell_type": "code",
      "source": [
        "from google.colab import drive\n",
        "drive.mount('/content/drive')"
      ],
      "metadata": {
        "colab": {
          "base_uri": "https://localhost:8080/"
        },
        "id": "chhyCbOvWtcf",
        "outputId": "31264876-0227-4941-b1af-616df6eb5047"
      },
      "id": "chhyCbOvWtcf",
      "execution_count": null,
      "outputs": [
        {
          "output_type": "stream",
          "name": "stdout",
          "text": [
            "Drive already mounted at /content/drive; to attempt to forcibly remount, call drive.mount(\"/content/drive\", force_remount=True).\n"
          ]
        }
      ]
    },
    {
      "cell_type": "code",
      "execution_count": null,
      "id": "014da8f3",
      "metadata": {
        "execution": {
          "iopub.execute_input": "2022-02-23T11:22:17.398545Z",
          "iopub.status.busy": "2022-02-23T11:22:17.397377Z",
          "iopub.status.idle": "2022-02-23T11:22:19.302133Z",
          "shell.execute_reply": "2022-02-23T11:22:19.301261Z",
          "shell.execute_reply.started": "2022-02-23T11:06:20.101045Z"
        },
        "papermill": {
          "duration": 1.92768,
          "end_time": "2022-02-23T11:22:19.302306",
          "exception": false,
          "start_time": "2022-02-23T11:22:17.374626",
          "status": "completed"
        },
        "tags": [],
        "id": "014da8f3"
      },
      "outputs": [],
      "source": [
        "import random\n",
        "\n",
        "import matplotlib.pyplot as plt\n",
        "import cv2\n",
        "import numpy as np\n",
        "import pandas as pd\n",
        "\n",
        "from sklearn.model_selection import KFold\n",
        "from sklearn.model_selection import cross_val_score\n",
        "from skimage.feature import hog\n",
        "\n",
        "\n",
        "from matplotlib import pyplot as plt\n",
        "\n",
        "from sklearn.svm import SVC\n",
        "from sklearn.model_selection import train_test_split\n",
        "from sklearn.metrics import confusion_matrix\n",
        "from sklearn.metrics import classification_report\n",
        "\n",
        "from sklearn.metrics import accuracy_score\n",
        "from sklearn.model_selection import cross_val_score\n"
      ]
    },
    {
      "cell_type": "markdown",
      "id": "03c1fb5c",
      "metadata": {
        "papermill": {
          "duration": 0.019857,
          "end_time": "2022-02-23T11:22:19.342049",
          "exception": false,
          "start_time": "2022-02-23T11:22:19.322192",
          "status": "completed"
        },
        "tags": [],
        "id": "03c1fb5c"
      },
      "source": [
        "Read the Dataset\n",
        "\n"
      ]
    },
    {
      "cell_type": "code",
      "execution_count": null,
      "id": "729aa4e4",
      "metadata": {
        "execution": {
          "iopub.execute_input": "2022-02-23T11:22:19.392025Z",
          "iopub.status.busy": "2022-02-23T11:22:19.391328Z",
          "iopub.status.idle": "2022-02-23T11:22:19.506835Z",
          "shell.execute_reply": "2022-02-23T11:22:19.506226Z",
          "shell.execute_reply.started": "2022-02-23T10:57:25.785212Z"
        },
        "papermill": {
          "duration": 0.144669,
          "end_time": "2022-02-23T11:22:19.506983",
          "exception": false,
          "start_time": "2022-02-23T11:22:19.362314",
          "status": "completed"
        },
        "tags": [],
        "id": "729aa4e4"
      },
      "outputs": [],
      "source": [
        "# import the necessary packages\n",
        "import os\n",
        "\n",
        "image_types = (\".jpg\", \".jpeg\", \".png\", \".bmp\", \".tif\", \".tiff\")\n",
        "\n",
        "\n",
        "def list_images(basePath, contains=None):\n",
        "    return list_files(basePath, validExts=image_types, contains=contains)\n",
        "\n",
        "\n",
        "def list_files(basePath, validExts=None, contains=None):\n",
        "    # loop over the directory structure\n",
        "    for (rootDir, dirNames, filenames) in os.walk(basePath):\n",
        "        # loop over the filenames in the current directory\n",
        "        for filename in filenames:\n",
        "            # if the contains string is not none and the filename does not contain\n",
        "            # the supplied string, then ignore the file\n",
        "            if contains is not None and filename.find(contains) == -1:\n",
        "                continue\n",
        "\n",
        "            # determine the file extension of the current file\n",
        "            ext = filename[filename.rfind(\".\"):].lower()\n",
        "\n",
        "            # check to see if the file is an image and should be processed\n",
        "            if validExts is None or ext.endswith(validExts):\n",
        "                # construct the path to the image and yield it\n",
        "                imagePath = os.path.join(rootDir, filename)\n",
        "                yield imagePath\n",
        "\n",
        "imagePaths = list(list_images('/content/drive/MyDrive/ck/CK+48/'))\n"
      ]
    },
    {
      "cell_type": "markdown",
      "id": "ae42f8e8",
      "metadata": {
        "papermill": {
          "duration": 0.019501,
          "end_time": "2022-02-23T11:22:19.586288",
          "exception": false,
          "start_time": "2022-02-23T11:22:19.566787",
          "status": "completed"
        },
        "tags": [],
        "id": "ae42f8e8"
      },
      "source": [
        "Read and convert images into gray-scale\n",
        "\n"
      ]
    },
    {
      "cell_type": "code",
      "execution_count": null,
      "id": "54ec80f4",
      "metadata": {
        "execution": {
          "iopub.execute_input": "2022-02-23T11:22:19.629869Z",
          "iopub.status.busy": "2022-02-23T11:22:19.629200Z",
          "iopub.status.idle": "2022-02-23T11:22:19.633366Z",
          "shell.execute_reply": "2022-02-23T11:22:19.633901Z",
          "shell.execute_reply.started": "2022-02-23T10:58:26.683764Z"
        },
        "papermill": {
          "duration": 0.027943,
          "end_time": "2022-02-23T11:22:19.634067",
          "exception": false,
          "start_time": "2022-02-23T11:22:19.606124",
          "status": "completed"
        },
        "tags": [],
        "id": "54ec80f4"
      },
      "outputs": [],
      "source": [
        "def colortogray(im):\n",
        "    image = cv2.imread(im)\n",
        "    imgray = cv2.cvtColor(image, cv2.COLOR_BGR2GRAY)\n",
        "    return imgray"
      ]
    },
    {
      "cell_type": "markdown",
      "id": "b1d03aa7",
      "metadata": {
        "papermill": {
          "duration": 0.019584,
          "end_time": "2022-02-23T11:22:19.673574",
          "exception": false,
          "start_time": "2022-02-23T11:22:19.653990",
          "status": "completed"
        },
        "tags": [],
        "id": "b1d03aa7"
      },
      "source": [
        "Resize images with a fixed size(INTER LINEAR interpolation)\n",
        "\n"
      ]
    },
    {
      "cell_type": "code",
      "execution_count": null,
      "id": "e3849cb6",
      "metadata": {
        "execution": {
          "iopub.execute_input": "2022-02-23T11:22:19.716651Z",
          "iopub.status.busy": "2022-02-23T11:22:19.715970Z",
          "iopub.status.idle": "2022-02-23T11:22:19.719423Z",
          "shell.execute_reply": "2022-02-23T11:22:19.719979Z",
          "shell.execute_reply.started": "2022-02-23T10:58:42.937188Z"
        },
        "papermill": {
          "duration": 0.026729,
          "end_time": "2022-02-23T11:22:19.720156",
          "exception": false,
          "start_time": "2022-02-23T11:22:19.693427",
          "status": "completed"
        },
        "tags": [],
        "id": "e3849cb6"
      },
      "outputs": [],
      "source": [
        "def resizeImage(image, size):\n",
        "    # cv2.imshow('Resized', cv2.resize(image, (size,size), interpolation=cv2.INTER_CUBIC))\n",
        "    return cv2.resize(image, (size,size))"
      ]
    },
    {
      "cell_type": "markdown",
      "id": "c27691d4",
      "metadata": {
        "papermill": {
          "duration": 0.020295,
          "end_time": "2022-02-23T11:22:19.760424",
          "exception": false,
          "start_time": "2022-02-23T11:22:19.740129",
          "status": "completed"
        },
        "tags": [],
        "id": "c27691d4"
      },
      "source": [
        "Features extraction with HOG algorithm\n",
        "\n"
      ]
    },
    {
      "cell_type": "code",
      "execution_count": null,
      "id": "3aef56d3",
      "metadata": {
        "execution": {
          "iopub.execute_input": "2022-02-23T11:22:19.809252Z",
          "iopub.status.busy": "2022-02-23T11:22:19.808475Z",
          "iopub.status.idle": "2022-02-23T11:22:19.811891Z",
          "shell.execute_reply": "2022-02-23T11:22:19.811224Z",
          "shell.execute_reply.started": "2022-02-23T10:59:06.512582Z"
        },
        "papermill": {
          "duration": 0.030874,
          "end_time": "2022-02-23T11:22:19.812065",
          "exception": false,
          "start_time": "2022-02-23T11:22:19.781191",
          "status": "completed"
        },
        "tags": [],
        "id": "3aef56d3"
      },
      "outputs": [],
      "source": [
        "def feat_lab(imagePaths):\n",
        "\n",
        "    features = []\n",
        "    labels = []\n",
        "\n",
        "    for imagePath in imagePaths:\n",
        "        im = colortogray(imagePath)\n",
        "        im = resizeImage(im,64)\n",
        "        fd1 =  hog(im, orientations=7, pixels_per_cell=(8, 8),cells_per_block=(4, 4),block_norm= 'L2-Hys' ,transform_sqrt = False)\n",
        "\n",
        "        label = imagePath.split(os.path.sep)[-2]\n",
        "        labels.append(label)\n",
        "        features.append(fd1)\n",
        "\n",
        "    features = np.array(features)\n",
        "    labels = np.array(labels)\n",
        "    return features,labels"
      ]
    },
    {
      "cell_type": "markdown",
      "id": "f081afda",
      "metadata": {
        "papermill": {
          "duration": 0.01972,
          "end_time": "2022-02-23T11:22:19.851985",
          "exception": false,
          "start_time": "2022-02-23T11:22:19.832265",
          "status": "completed"
        },
        "tags": [],
        "id": "f081afda"
      },
      "source": [
        "Compute the features and obtain the lables using the previous functions\n",
        "\n"
      ]
    },
    {
      "cell_type": "code",
      "execution_count": null,
      "id": "111f8bfd",
      "metadata": {
        "execution": {
          "iopub.execute_input": "2022-02-23T11:22:19.897023Z",
          "iopub.status.busy": "2022-02-23T11:22:19.896215Z",
          "iopub.status.idle": "2022-02-23T11:22:24.447626Z",
          "shell.execute_reply": "2022-02-23T11:22:24.448317Z",
          "shell.execute_reply.started": "2022-02-23T11:00:02.497454Z"
        },
        "papermill": {
          "duration": 4.576847,
          "end_time": "2022-02-23T11:22:24.448545",
          "exception": false,
          "start_time": "2022-02-23T11:22:19.871698",
          "status": "completed"
        },
        "tags": [],
        "colab": {
          "base_uri": "https://localhost:8080/"
        },
        "id": "111f8bfd",
        "outputId": "d5c70521-eec1-4e30-dc42-156fb9030c05"
      },
      "outputs": [
        {
          "output_type": "stream",
          "name": "stdout",
          "text": [
            "[INFO] The number of features ...2800\n",
            "[INFO] The number of samples ...981\n"
          ]
        }
      ],
      "source": [
        "features,labels = feat_lab(imagePaths)\n",
        "\n",
        "\n",
        "print(\"[INFO] The number of features ...\" + str(features.shape[1]))\n",
        "\n",
        "print(\"[INFO] The number of samples ...\" + str(labels.shape[0]))"
      ]
    },
    {
      "cell_type": "markdown",
      "id": "6b60f53a",
      "metadata": {
        "papermill": {
          "duration": 0.01976,
          "end_time": "2022-02-23T11:22:24.491416",
          "exception": false,
          "start_time": "2022-02-23T11:22:24.471656",
          "status": "completed"
        },
        "tags": [],
        "id": "6b60f53a"
      },
      "source": [
        "The classifier"
      ]
    },
    {
      "cell_type": "code",
      "execution_count": null,
      "id": "f9ed7f14",
      "metadata": {
        "execution": {
          "iopub.execute_input": "2022-02-23T11:22:24.537222Z",
          "iopub.status.busy": "2022-02-23T11:22:24.536298Z",
          "iopub.status.idle": "2022-02-23T11:22:24.539301Z",
          "shell.execute_reply": "2022-02-23T11:22:24.538639Z",
          "shell.execute_reply.started": "2022-02-23T11:09:11.067527Z"
        },
        "papermill": {
          "duration": 0.028011,
          "end_time": "2022-02-23T11:22:24.539452",
          "exception": false,
          "start_time": "2022-02-23T11:22:24.511441",
          "status": "completed"
        },
        "tags": [],
        "id": "f9ed7f14"
      },
      "outputs": [],
      "source": [
        "svm_clf = SVC(kernel='rbf', gamma='scale', C= 10)\n"
      ]
    },
    {
      "cell_type": "code",
      "execution_count": null,
      "id": "65b79e36",
      "metadata": {
        "execution": {
          "iopub.execute_input": "2022-02-23T11:22:24.593342Z",
          "iopub.status.busy": "2022-02-23T11:22:24.591927Z",
          "iopub.status.idle": "2022-02-23T11:22:28.271386Z",
          "shell.execute_reply": "2022-02-23T11:22:28.271887Z",
          "shell.execute_reply.started": "2022-02-23T11:09:31.233687Z"
        },
        "papermill": {
          "duration": 3.712539,
          "end_time": "2022-02-23T11:22:28.272063",
          "exception": false,
          "start_time": "2022-02-23T11:22:24.559524",
          "status": "completed"
        },
        "tags": [],
        "colab": {
          "base_uri": "https://localhost:8080/"
        },
        "id": "65b79e36",
        "outputId": "413c1dd4-8cdb-4dfe-c214-0f78708d7d70"
      },
      "outputs": [
        {
          "output_type": "stream",
          "name": "stdout",
          "text": [
            "[INFO] The number of images used in training ...686\n",
            "[INFO] The number of images used in testing ...295\n",
            "Train Result:\n",
            "================================================\n",
            "Accuracy Score: 100.00%\n",
            "_______________________________________________\n",
            "CLASSIFICATION REPORT:\n",
            "              precision    recall  f1-score   support\n",
            "\n",
            "       anger       1.00      1.00      1.00        93\n",
            "    contempt       1.00      1.00      1.00        36\n",
            "     disgust       1.00      1.00      1.00       118\n",
            "        fear       1.00      1.00      1.00        56\n",
            "       happy       1.00      1.00      1.00       151\n",
            "     sadness       1.00      1.00      1.00        57\n",
            "    surprise       1.00      1.00      1.00       175\n",
            "\n",
            "    accuracy                           1.00       686\n",
            "   macro avg       1.00      1.00      1.00       686\n",
            "weighted avg       1.00      1.00      1.00       686\n",
            "\n",
            "_______________________________________________\n",
            "Confusion Matrix: \n",
            " [[ 93   0   0   0   0   0   0]\n",
            " [  0  36   0   0   0   0   0]\n",
            " [  0   0 118   0   0   0   0]\n",
            " [  0   0   0  56   0   0   0]\n",
            " [  0   0   0   0 151   0   0]\n",
            " [  0   0   0   0   0  57   0]\n",
            " [  0   0   0   0   0   0 175]]\n",
            "\n",
            "Test Result:\n",
            "================================================\n",
            "Accuracy Score: 99.32%\n",
            "_______________________________________________\n",
            "CLASSIFICATION REPORT:\n",
            "              precision    recall  f1-score   support\n",
            "\n",
            "       anger       0.98      1.00      0.99        42\n",
            "    contempt       1.00      1.00      1.00        18\n",
            "     disgust       0.98      1.00      0.99        59\n",
            "        fear       1.00      1.00      1.00        19\n",
            "       happy       1.00      1.00      1.00        56\n",
            "     sadness       1.00      0.93      0.96        27\n",
            "    surprise       1.00      1.00      1.00        74\n",
            "\n",
            "    accuracy                           0.99       295\n",
            "   macro avg       0.99      0.99      0.99       295\n",
            "weighted avg       0.99      0.99      0.99       295\n",
            "\n",
            "_______________________________________________\n",
            "Confusion Matrix: \n",
            " [[42  0  0  0  0  0  0]\n",
            " [ 0 18  0  0  0  0  0]\n",
            " [ 0  0 59  0  0  0  0]\n",
            " [ 0  0  0 19  0  0  0]\n",
            " [ 0  0  0  0 56  0  0]\n",
            " [ 1  0  1  0  0 25  0]\n",
            " [ 0  0  0  0  0  0 74]]\n",
            "\n"
          ]
        }
      ],
      "source": [
        "from sklearn.metrics import accuracy_score, confusion_matrix, classification_report\n",
        "\n",
        "def print_score(clf, X_train, y_train, X_test, y_test, train=True):\n",
        "    if train:\n",
        "        pred = clf.predict(X_train)\n",
        "        clf_report = classification_report(y_train, pred)\n",
        "        print(\"Train Result:\\n================================================\")\n",
        "        print(f\"Accuracy Score: {accuracy_score(y_train, pred) * 100:.2f}%\")\n",
        "        print(\"_______________________________________________\")\n",
        "        print(f\"CLASSIFICATION REPORT:\\n{clf_report}\")\n",
        "        print(\"_______________________________________________\")\n",
        "        print(f\"Confusion Matrix: \\n {confusion_matrix(y_train, pred)}\\n\")\n",
        "\n",
        "    elif train==False:\n",
        "        pred = clf.predict(X_test)\n",
        "        clf_report = classification_report(y_test, pred)\n",
        "        print(\"Test Result:\\n================================================\")\n",
        "        print(f\"Accuracy Score: {accuracy_score(y_test, pred) * 100:.2f}%\")\n",
        "        print(\"_______________________________________________\")\n",
        "        print(f\"CLASSIFICATION REPORT:\\n{clf_report}\")\n",
        "        print(\"_______________________________________________\")\n",
        "        print(f\"Confusion Matrix: \\n {confusion_matrix(y_test, pred)}\\n\")\n",
        "\n",
        "################################################################################\n",
        "################################################################################\n",
        "\n",
        "\n",
        "R =random.randint(1,88)\n",
        "X_train, X_test, y_train, y_test = train_test_split(features, labels, test_size= 0.3,random_state=40\n",
        "                                                   )\n",
        "\n",
        "print(\"[INFO] The number of images used in training ...\" + str(X_train.shape[0]))\n",
        "print(\"[INFO] The number of images used in testing ...\" + str(X_test.shape[0]))\n",
        "\n",
        "\n",
        "svm_clf.fit(X_train, y_train)\n",
        "\n",
        "print_score(svm_clf, X_train, y_train, X_test, y_test, train=True)\n",
        "print_score(svm_clf, X_train, y_train, X_test, y_test, train=False)\n"
      ]
    }
  ],
  "metadata": {
    "kernelspec": {
      "display_name": "Python 3",
      "language": "python",
      "name": "python3"
    },
    "language_info": {
      "codemirror_mode": {
        "name": "ipython",
        "version": 3
      },
      "file_extension": ".py",
      "mimetype": "text/x-python",
      "name": "python",
      "nbconvert_exporter": "python",
      "pygments_lexer": "ipython3",
      "version": "3.7.12"
    },
    "papermill": {
      "default_parameters": {},
      "duration": 39.114295,
      "end_time": "2022-02-23T11:22:46.629032",
      "environment_variables": {},
      "exception": null,
      "input_path": "__notebook__.ipynb",
      "output_path": "__notebook__.ipynb",
      "parameters": {},
      "start_time": "2022-02-23T11:22:07.514737",
      "version": "2.3.3"
    },
    "colab": {
      "provenance": []
    }
  },
  "nbformat": 4,
  "nbformat_minor": 5
}